{
 "cells": [
  {
   "cell_type": "code",
   "execution_count": 16,
   "metadata": {},
   "outputs": [],
   "source": [
    "# create Person Class, ID(int), Name(string)\n",
    "\n",
    "class Person:\n",
    "    def __init__ (self, id, name):\n",
    "        self.id = id\n",
    "        self.name = name\n",
    "        \n",
    "    def __eq__ (self, other):\n",
    "        return self.id == other.id\n",
    "    \n",
    "    def __ne__ (self, other):\n",
    "        return not self__eq__(other)\n",
    "    "
   ]
  },
  {
   "cell_type": "code",
   "execution_count": 17,
   "metadata": {},
   "outputs": [],
   "source": [
    "# Creating Person objects in existing list\n",
    "existing = [Person(1, \"Jack\"), Person(2, \"Jill\"), Person(3, \"Jerry\")]"
   ]
  },
  {
   "cell_type": "code",
   "execution_count": 18,
   "metadata": {},
   "outputs": [],
   "source": [
    "# create changes list\n",
    "\n",
    "changes = [Person(2, \"Jill\"), Person(3, \"Gerry\"), Person(4, \"Frank\")]\n"
   ]
  },
  {
   "cell_type": "code",
   "execution_count": 19,
   "metadata": {},
   "outputs": [
    {
     "name": "stdout",
     "output_type": "stream",
     "text": [
      "[(4, 'Frank')]\n"
     ]
    }
   ],
   "source": [
    "added = [(x.id,x.name) for x in changes if x not in existing]\n",
    "print(added)"
   ]
  },
  {
   "cell_type": "code",
   "execution_count": 35,
   "metadata": {},
   "outputs": [
    {
     "name": "stdout",
     "output_type": "stream",
     "text": [
      "[(1, 'Jack'), (2, 'Jill'), (3, 'Jerry')]\n",
      "[(2, 'Jill'), (3, 'Gerry')]\n"
     ]
    }
   ],
   "source": [
    "temp1 = [(x.id, x.name) for x in existing]\n",
    "temp2 = [(x.id, x.name) for x in changes if x in existing]\n",
    "\n",
    "print(temp1)\n",
    "print(temp2)"
   ]
  },
  {
   "cell_type": "code",
   "execution_count": 36,
   "metadata": {
    "scrolled": true
   },
   "outputs": [
    {
     "name": "stdout",
     "output_type": "stream",
     "text": [
      "[(3, 'Gerry')]\n"
     ]
    }
   ],
   "source": [
    "updated = [x for x in temp2 if x not in temp1]\n",
    "print(updated)"
   ]
  },
  {
   "cell_type": "code",
   "execution_count": 39,
   "metadata": {},
   "outputs": [
    {
     "name": "stdout",
     "output_type": "stream",
     "text": [
      "[(1, 'Jack')]\n"
     ]
    }
   ],
   "source": [
    "deleted = [(x.id, x.name) for x in existing if x not in changes]\n",
    "print(deleted)"
   ]
  },
  {
   "cell_type": "code",
   "execution_count": null,
   "metadata": {},
   "outputs": [],
   "source": []
  }
 ],
 "metadata": {
  "kernelspec": {
   "display_name": "Python 3",
   "language": "python",
   "name": "python3"
  },
  "language_info": {
   "codemirror_mode": {
    "name": "ipython",
    "version": 3
   },
   "file_extension": ".py",
   "mimetype": "text/x-python",
   "name": "python",
   "nbconvert_exporter": "python",
   "pygments_lexer": "ipython3",
   "version": "3.7.3"
  }
 },
 "nbformat": 4,
 "nbformat_minor": 2
}
